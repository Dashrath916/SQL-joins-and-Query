{
  "nbformat": 4,
  "nbformat_minor": 0,
  "metadata": {
    "colab": {
      "provenance": []
    },
    "kernelspec": {
      "name": "python3",
      "display_name": "Python 3"
    },
    "language_info": {
      "name": "python"
    }
  },
  "cells": [
    {
      "cell_type": "code",
      "execution_count": null,
      "metadata": {
        "id": "2Wp0q7u7uW9j"
      },
      "outputs": [],
      "source": [
        "## Python code to demonstrate table creation and\n",
        "# insertions with SQL\n",
        "\n",
        "# importing module\n",
        "import sqlite3\n",
        "\n",
        "# connecting to the database\n",
        "connection = sqlite3.connect(\"myTable.db\")\n",
        "\n",
        "# cursor\n",
        "crsr = connection.cursor()"
      ]
    },
    {
      "cell_type": "code",
      "source": [],
      "metadata": {
        "id": "sFJtij9MsM8o"
      },
      "execution_count": null,
      "outputs": []
    },
    {
      "cell_type": "code",
      "source": [
        "import pandas as pd\n",
        "\n",
        "def print_clean(res):\n",
        "  cnames = list(map(lambda x: x[0], crsr.description))\n",
        "  print(pd.DataFrame(res,columns = cnames))"
      ],
      "metadata": {
        "id": "389p_Z4qwWae"
      },
      "execution_count": null,
      "outputs": []
    },
    {
      "cell_type": "code",
      "source": [
        "# create table emp and proj\n",
        "# SQL command to create a table in the database\n",
        "sql_command = \"\"\"CREATE TABLE emp( EID INTEGER,\n",
        "name VARCHAR(30));\"\"\"\n",
        "\n",
        "# execute the statement\n",
        "crsr.execute(sql_command)\n",
        "\n"
      ],
      "metadata": {
        "colab": {
          "base_uri": "https://localhost:8080/",
          "height": 227
        },
        "id": "jVkgKiLauakh",
        "outputId": "4387f4bf-2ef4-4a3b-802e-27f6990c5482"
      },
      "execution_count": null,
      "outputs": [
        {
          "output_type": "error",
          "ename": "OperationalError",
          "evalue": "ignored",
          "traceback": [
            "\u001b[0;31m---------------------------------------------------------------------------\u001b[0m",
            "\u001b[0;31mOperationalError\u001b[0m                          Traceback (most recent call last)",
            "\u001b[0;32m<ipython-input-3-543766b18ac2>\u001b[0m in \u001b[0;36m<cell line: 7>\u001b[0;34m()\u001b[0m\n\u001b[1;32m      5\u001b[0m \u001b[0;34m\u001b[0m\u001b[0m\n\u001b[1;32m      6\u001b[0m \u001b[0;31m# execute the statement\u001b[0m\u001b[0;34m\u001b[0m\u001b[0;34m\u001b[0m\u001b[0m\n\u001b[0;32m----> 7\u001b[0;31m \u001b[0mcrsr\u001b[0m\u001b[0;34m.\u001b[0m\u001b[0mexecute\u001b[0m\u001b[0;34m(\u001b[0m\u001b[0msql_command\u001b[0m\u001b[0;34m)\u001b[0m\u001b[0;34m\u001b[0m\u001b[0;34m\u001b[0m\u001b[0m\n\u001b[0m\u001b[1;32m      8\u001b[0m \u001b[0;34m\u001b[0m\u001b[0m\n",
            "\u001b[0;31mOperationalError\u001b[0m: table emp already exists"
          ]
        }
      ]
    },
    {
      "cell_type": "code",
      "source": [
        "sql_command = \"\"\"CREATE TABLE proj( EID INTEGER,\n",
        "name VARCHAR(30));\"\"\"\n",
        "\n",
        "# execute the statement\n",
        "crsr.execute(sql_command)\n",
        "\n"
      ],
      "metadata": {
        "id": "XhrxA97Uu8K2",
        "outputId": "a87c8674-3538-4526-cc4f-f71251f67cf6",
        "colab": {
          "base_uri": "https://localhost:8080/",
          "height": 227
        }
      },
      "execution_count": null,
      "outputs": [
        {
          "output_type": "error",
          "ename": "OperationalError",
          "evalue": "ignored",
          "traceback": [
            "\u001b[0;31m---------------------------------------------------------------------------\u001b[0m",
            "\u001b[0;31mOperationalError\u001b[0m                          Traceback (most recent call last)",
            "\u001b[0;32m<ipython-input-4-fabd73c9e3fd>\u001b[0m in \u001b[0;36m<cell line: 5>\u001b[0;34m()\u001b[0m\n\u001b[1;32m      3\u001b[0m \u001b[0;34m\u001b[0m\u001b[0m\n\u001b[1;32m      4\u001b[0m \u001b[0;31m# execute the statement\u001b[0m\u001b[0;34m\u001b[0m\u001b[0;34m\u001b[0m\u001b[0m\n\u001b[0;32m----> 5\u001b[0;31m \u001b[0mcrsr\u001b[0m\u001b[0;34m.\u001b[0m\u001b[0mexecute\u001b[0m\u001b[0;34m(\u001b[0m\u001b[0msql_command\u001b[0m\u001b[0;34m)\u001b[0m\u001b[0;34m\u001b[0m\u001b[0;34m\u001b[0m\u001b[0m\n\u001b[0m\u001b[1;32m      6\u001b[0m \u001b[0;34m\u001b[0m\u001b[0m\n",
            "\u001b[0;31mOperationalError\u001b[0m: table proj already exists"
          ]
        }
      ]
    },
    {
      "cell_type": "code",
      "source": [
        "## insert rows in these 2 tables\n",
        "\n",
        "emp_dict = {\"Name\":[\"Ankit\", \"Balram\", \"Chandu\",\"Dashrath\"], \"EID\":[1,2,3,4]}\n",
        "for name, eid in zip(emp_dict[\"Name\"], emp_dict[\"EID\"]):\n",
        "  # SQL command to insert the data in the table\n",
        "  sql_command = f\"\"\"INSERT INTO emp VALUES ('{eid}', '{name}');\"\"\"\n",
        "  crsr.execute(sql_command)\n",
        "\n",
        "proj_dict = {\"Name\":[\"P1\", \"P1\", \"P2\", \"P2\", \"P3\", \"P4\", \"P5\", \"P5\"], \"EID\":[1,2,3,1,2,1,3,5]}\n",
        "for name, eid in zip(proj_dict[\"Name\"], proj_dict[\"EID\"]):\n",
        "  # SQL command to insert the data in the table\n",
        "  sql_command = f\"\"\"INSERT INTO proj VALUES ('{eid}', '{name}');\"\"\"\n",
        "  crsr.execute(sql_command)\n",
        "\n",
        "connection.commit()"
      ],
      "metadata": {
        "id": "F-mQAB1hvCRL"
      },
      "execution_count": null,
      "outputs": []
    },
    {
      "cell_type": "code",
      "source": [
        "print_clean(crsr.execute(\"SELECT * FROM emp\").fetchall())"
      ],
      "metadata": {
        "colab": {
          "base_uri": "https://localhost:8080/"
        },
        "id": "bt6iSnJivw5F",
        "outputId": "9ec3f858-7bc3-4a60-94e4-edaf41ca2e84"
      },
      "execution_count": null,
      "outputs": [
        {
          "output_type": "stream",
          "name": "stdout",
          "text": [
            "    EID      name\n",
            "0     1     Ankit\n",
            "1     2    Balram\n",
            "2     3    Chandu\n",
            "3     4  Dashrath\n",
            "4     1     Ankit\n",
            "5     2    Balram\n",
            "6     3    Chandu\n",
            "7     4  Dashrath\n",
            "8     1     Ankit\n",
            "9     2    Balram\n",
            "10    3    Chandu\n",
            "11    4  Dashrath\n"
          ]
        }
      ]
    },
    {
      "cell_type": "code",
      "source": [
        "print_clean(crsr.execute(\"SELECT * FROM proj\").fetchall())"
      ],
      "metadata": {
        "id": "hnMbE0wcwh3S",
        "colab": {
          "base_uri": "https://localhost:8080/"
        },
        "outputId": "51aa9af6-8add-4472-b83d-2b7358814ac8"
      },
      "execution_count": null,
      "outputs": [
        {
          "output_type": "stream",
          "name": "stdout",
          "text": [
            "    EID name\n",
            "0     1   P1\n",
            "1     2   P1\n",
            "2     3   P2\n",
            "3     1   P2\n",
            "4     2   P3\n",
            "5     1   P4\n",
            "6     3   P5\n",
            "7     5   P5\n",
            "8     1   P1\n",
            "9     2   P1\n",
            "10    3   P2\n",
            "11    1   P2\n",
            "12    2   P3\n",
            "13    1   P4\n",
            "14    3   P5\n",
            "15    5   P5\n",
            "16    1   P1\n",
            "17    2   P1\n",
            "18    3   P2\n",
            "19    1   P2\n",
            "20    2   P3\n",
            "21    1   P4\n",
            "22    3   P5\n",
            "23    5   P5\n"
          ]
        }
      ]
    },
    {
      "cell_type": "markdown",
      "source": [
        "#LEFT join"
      ],
      "metadata": {
        "id": "8LGyC6I5AfY8"
      }
    },
    {
      "cell_type": "code",
      "source": [
        "## practice joins here\n",
        "#left join\n",
        "print_clean(crsr.execute(\"SELECT emp.EID AS emp_EID, proj.EID AS proj_EID FROM emp LEFT JOIN proj ON proj.name = emp.name\").fetchall())"
      ],
      "metadata": {
        "id": "Hrhjs3iewjvw",
        "colab": {
          "base_uri": "https://localhost:8080/"
        },
        "outputId": "680ccf85-49ca-4c0f-8778-439a0be0a91f"
      },
      "execution_count": null,
      "outputs": [
        {
          "output_type": "stream",
          "name": "stdout",
          "text": [
            "    emp_EID proj_EID\n",
            "0         1     None\n",
            "1         2     None\n",
            "2         3     None\n",
            "3         4     None\n",
            "4         1     None\n",
            "5         2     None\n",
            "6         3     None\n",
            "7         4     None\n",
            "8         1     None\n",
            "9         2     None\n",
            "10        3     None\n",
            "11        4     None\n"
          ]
        }
      ]
    },
    {
      "cell_type": "markdown",
      "source": [
        "#INNER join"
      ],
      "metadata": {
        "id": "vSQiFyv6AiKd"
      }
    },
    {
      "cell_type": "code",
      "source": [
        "#Inner join\n",
        "print_clean(crsr.execute(\"SELECT * FROM emp INNER JOIN proj ON proj.EID = emp.EID\").fetchall())"
      ],
      "metadata": {
        "id": "6i7niO5wka8n"
      },
      "execution_count": null,
      "outputs": []
    },
    {
      "cell_type": "markdown",
      "source": [
        "#RIGHT JOIN"
      ],
      "metadata": {
        "id": "QawTSvzSAxOT"
      }
    },
    {
      "cell_type": "code",
      "source": [
        "#Right join\n",
        "print_clean(crsr.execute(\"SELECT emp.EID AS emp_EID, proj.EID AS proj_EID FROM proj LEFT JOIN emp  ON proj.name = emp.name\").fetchall())"
      ],
      "metadata": {
        "id": "J34aEr0vmAYO"
      },
      "execution_count": null,
      "outputs": []
    },
    {
      "cell_type": "markdown",
      "source": [
        "#FULL OUTER JOIN"
      ],
      "metadata": {
        "id": "NtR4UG3SA2Wv"
      }
    },
    {
      "cell_type": "code",
      "source": [
        "# Full Outer join\n",
        "print_clean(crsr.execute(\"\"\"SELECT emp.EID, proj.EID FROM emp LEFT JOIN proj ON proj.name = emp.name\n",
        "UNION\n",
        "SELECT emp.EID, proj.EID FROM proj LEFT JOIN emp ON proj.name = emp.name\"\"\").fetchall())"
      ],
      "metadata": {
        "id": "qEGy9bciPBXR"
      },
      "execution_count": null,
      "outputs": []
    },
    {
      "cell_type": "markdown",
      "source": [
        "#Create a table\n"
      ],
      "metadata": {
        "id": "G36kYBVGa1mN"
      }
    },
    {
      "cell_type": "code",
      "source": [
        "import sqlite3\n",
        "\n",
        "connection = sqlite3.connect(\"mySchool.db\")\n",
        "\n",
        "crsr = connection.cursor()"
      ],
      "metadata": {
        "id": "akh2S8sRQ5NW"
      },
      "execution_count": null,
      "outputs": []
    },
    {
      "cell_type": "code",
      "source": [
        "sql_command = \"\"\"CREATE TABLE teacher( sttap_number INTEGER PRIMAY KEY,\n",
        "fname VARCHAR(30),\n",
        "lname VARCHAR(30),\n",
        "subject CHAR(1),\n",
        "joining_date DATE); \"\"\"\n",
        "\n",
        "crsr.execute(sql_command)"
      ],
      "metadata": {
        "id": "EI1e-P9-bVCE"
      },
      "execution_count": null,
      "outputs": []
    },
    {
      "cell_type": "markdown",
      "source": [
        "#Insert the data"
      ],
      "metadata": {
        "id": "ZIBzPKkNde9b"
      }
    },
    {
      "cell_type": "code",
      "source": [
        "sql_command = \"\"\"INSERT INTO teacher VALUES (23, \"Dashrth\", \"Kumawat\", \"Hindi\",10-10-2002);\"\"\"\n",
        "\n",
        "\n",
        "crsr.execute(sql_command)\n"
      ],
      "metadata": {
        "id": "FxwS_JHVbUAE"
      },
      "execution_count": null,
      "outputs": []
    },
    {
      "cell_type": "code",
      "source": [
        "sql_command = \"\"\"INSERT INTO teacher VALUES (10, \"Sonu\", \"Solanki\", \"English\", 23-10-2003);\"\"\"\n",
        "\n",
        "crsr.execute(sql_command)\n",
        "\n",
        "connection.commit()\n",
        "\n",
        "connection.close()"
      ],
      "metadata": {
        "id": "6pybk3h0eqOm"
      },
      "execution_count": null,
      "outputs": []
    },
    {
      "cell_type": "code",
      "source": [
        "connection = sqlite3.connect(\"mySchool.db\")\n",
        "\n",
        "crsr = connection.cursor()"
      ],
      "metadata": {
        "id": "xWvv4XSXgPtY"
      },
      "execution_count": null,
      "outputs": []
    },
    {
      "cell_type": "markdown",
      "source": [
        "#Fetching  the data"
      ],
      "metadata": {
        "id": "F1RwFgAPhsLE"
      }
    },
    {
      "cell_type": "code",
      "source": [
        "crsr.execute(\"SELECT * FROM teacher \");\n",
        "\n",
        "data = crsr.fetchall()\n",
        "\n",
        "for i in data:\n",
        "  print(i)\n"
      ],
      "metadata": {
        "id": "F0yJh99Xfwgo"
      },
      "execution_count": null,
      "outputs": []
    },
    {
      "cell_type": "code",
      "source": [
        "crsr.execute(\"SELECT * FROM teacher  WHERE fname LIKE '%as%'\").fetchall()\n"
      ],
      "metadata": {
        "id": "Gd0ZFe6PgLkS"
      },
      "execution_count": null,
      "outputs": []
    },
    {
      "cell_type": "markdown",
      "source": [
        "#update the data"
      ],
      "metadata": {
        "id": "kAWl3nOMVeAF"
      }
    },
    {
      "cell_type": "code",
      "source": [
        "#update the student record\n",
        "connection.execute(\"UPDATE teacher SET fname = 'Jivan' , lname = 'Suthar', joining_date = date('2002-10-10') WHERE sttap_number =23 \").fetchall()\n",
        "connection.execute(\"UPDATE teacher SET joining_date=date('2005-03-23') where sttap_number = 10\").fetchall()\n",
        "connection.commit()\n",
        "\n",
        "print(\"Total number of rows updated:\",connection.total_changes)\n",
        "\n",
        "data1 = connection.execute(\"SELECT * FROM teacher\")\n",
        "for i in data1:\n",
        "  print(i)"
      ],
      "metadata": {
        "id": "pMuUZO-E7OQ4"
      },
      "execution_count": null,
      "outputs": []
    },
    {
      "cell_type": "markdown",
      "source": [
        "#Deleting the data"
      ],
      "metadata": {
        "id": "09ZgJuegZcXK"
      }
    },
    {
      "cell_type": "code",
      "source": [
        "\n",
        "#delete the student reocrd from database\n",
        "connection.execute(\"DELETE from teacher where sttap_number=23\").fetchall()\n",
        "connection.commit()\n",
        "\n",
        "print(\"Total number of rows deleted:\",connection.total_changes)\n",
        "\n",
        "cursur = connection.execute(\"SELECT * FROM TEACHER\")\n",
        "for rows in cursur:\n",
        "  print(rows)\n",
        "\n",
        " #connection.close()"
      ],
      "metadata": {
        "id": "KnFYZdx8WW3w"
      },
      "execution_count": null,
      "outputs": []
    },
    {
      "cell_type": "code",
      "source": [
        "#currnet date and time\n",
        "import sqlite3\n",
        "import datetime\n",
        "\n",
        "con = sqlite3.connect(\":memory:\")\n",
        "cur = con.cursor()\n",
        "cur.execute(\"create table test(d date, ts timestamp)\")\n",
        "\n",
        "today = datetime.date.today()\n",
        "now = datetime.datetime.now()\n",
        "\n",
        "cur.execute(\"insert into test(d, ts) values (?, ?)\", (today, now))\n",
        "cur.execute(\"select d, ts from test\")\n",
        "row = cur.fetchone()\n",
        "print(today, \"=>\", row[0], type(row[0]))\n",
        "print(now, \"=>\", row[1], type(row[1]))\n",
        "\n",
        "cur.execute('select current_date as \"d [date]\", current_timestamp as \"ts [timestamp]\"')\n",
        "row = cur.fetchone()\n",
        "print(\"current_date\", row[0], type(row[0]))\n",
        "print(\"current_timestamp\", row[1], type(row[1]))\n",
        "\n",
        "con.close()"
      ],
      "metadata": {
        "id": "DOKaoaSCZIqd"
      },
      "execution_count": null,
      "outputs": []
    },
    {
      "cell_type": "code",
      "source": [
        "crsr.execute(\"SELECT DATE('now')\").fetchall()\n"
      ],
      "metadata": {
        "id": "0dFvLvQOcbUG"
      },
      "execution_count": null,
      "outputs": []
    },
    {
      "cell_type": "code",
      "source": [
        "crsr.execute(\"SELECT time('now')\").fetchall()\n"
      ],
      "metadata": {
        "id": "CA6FseuJoAhO"
      },
      "execution_count": null,
      "outputs": []
    },
    {
      "cell_type": "code",
      "source": [
        "crsr.execute(\"SELECT datetime('now')\").fetchall()\n"
      ],
      "metadata": {
        "id": "LqopgT4Q4PTo"
      },
      "execution_count": null,
      "outputs": []
    },
    {
      "cell_type": "code",
      "source": [
        "crsr.execute(\"SELECT strftime('%Y', 'now')\").fetchall()\n"
      ],
      "metadata": {
        "id": "vD54WDvU4s4r"
      },
      "execution_count": null,
      "outputs": []
    },
    {
      "cell_type": "markdown",
      "source": [
        "#EXTRACT() Returns a single part of a date/time\n"
      ],
      "metadata": {
        "id": "gvnlQ7cuTqSO"
      }
    },
    {
      "cell_type": "code",
      "source": [
        "crsr.execute(\"SELECT strftime('%Y', 'now')\").fetchall()\n",
        "\n"
      ],
      "metadata": {
        "id": "UtT1WFaJQe_-"
      },
      "execution_count": null,
      "outputs": []
    },
    {
      "cell_type": "code",
      "source": [
        "crsr.execute(\"SELECT strftime('%m', 'now')\").fetchall()\n"
      ],
      "metadata": {
        "id": "WZeh88idSUb0"
      },
      "execution_count": null,
      "outputs": []
    },
    {
      "cell_type": "code",
      "source": [
        "crsr.execute(\"SELECT strftime('%d', 'now')\").fetchall()\n"
      ],
      "metadata": {
        "id": "JNNnWAFgSimo"
      },
      "execution_count": null,
      "outputs": []
    },
    {
      "cell_type": "markdown",
      "source": [
        "#DATE_ADD() Adds a specified time interval to a date\n"
      ],
      "metadata": {
        "id": "mzrQzpN6TfNA"
      }
    },
    {
      "cell_type": "code",
      "source": [
        "crsr.execute(\"SELECT strftime('%Y-%m-%d %H:%M:%S', 'now', '+1 day')\").fetchall()\n"
      ],
      "metadata": {
        "id": "s_Mo7AFiSk5A"
      },
      "execution_count": null,
      "outputs": []
    },
    {
      "cell_type": "markdown",
      "source": [
        "#DATE_SUB() Subtracts a specified time interval from a date\n"
      ],
      "metadata": {
        "id": "UEQC3j38Uw0X"
      }
    },
    {
      "cell_type": "code",
      "source": [
        "crsr.execute(\"SELECT strftime('%Y-%m-%d %H:%M:%S', 'now', '-1 day')\").fetchall()\n"
      ],
      "metadata": {
        "id": "A_2aMo7lTae0"
      },
      "execution_count": null,
      "outputs": []
    },
    {
      "cell_type": "code",
      "source": [
        "crsr.execute(\"SELECT strftime('%Y-%m-%d %H:%M:%S', 'now', '-2 hours')\").fetchall()\n"
      ],
      "metadata": {
        "id": "QlwNGCATU2gJ"
      },
      "execution_count": null,
      "outputs": []
    },
    {
      "cell_type": "markdown",
      "source": [
        "#DATEDIFF() Returns the number of days between two dates\n"
      ],
      "metadata": {
        "id": "75R7h0dSEuDO"
      }
    },
    {
      "cell_type": "code",
      "source": [
        "\n",
        "crsr.execute(\"SELECT (strftime('%Y', '2020-09-27')- strftime('%Y','2011-09-27')) AS DateDiff\").fetchall()\n",
        "\n",
        "\n"
      ],
      "metadata": {
        "id": "8wjbxYL-U7mG"
      },
      "execution_count": null,
      "outputs": []
    },
    {
      "cell_type": "code",
      "source": [
        "# Calculate the difference in years between two dates\n",
        "crsr.execute(\"SELECT (strftime('%Y', '2020-09-27') - strftime('%Y', '2011-09-27')) AS DateDiff\").fetchall()\n",
        "\n",
        "\n"
      ],
      "metadata": {
        "id": "9kjr9-sLWcK0"
      },
      "execution_count": null,
      "outputs": []
    },
    {
      "cell_type": "markdown",
      "source": [
        "#DATE_FORMAT() Displays date/time data in different formats\n"
      ],
      "metadata": {
        "id": "RgcbfnBdGpuq"
      }
    },
    {
      "cell_type": "code",
      "source": [
        "crsr.execute(\"SELECT strftime('%Y', '2017-06-15')\").fetchall()"
      ],
      "metadata": {
        "id": "8N42vXSHDG02"
      },
      "execution_count": null,
      "outputs": []
    },
    {
      "cell_type": "code",
      "source": [
        "crsr.execute(\"SELECT strftime('%Y %m %d', '2017-06-15')\").fetchall()"
      ],
      "metadata": {
        "id": "hX2dO4X6HGZg"
      },
      "execution_count": null,
      "outputs": []
    },
    {
      "cell_type": "code",
      "source": [
        "#crsr.execute(\"SELECT strftime('%W %M %e %Y', BirthDate) FROM teacher\").fetchall()\n"
      ],
      "metadata": {
        "id": "O0fMMIqtIMzm"
      },
      "execution_count": null,
      "outputs": []
    },
    {
      "cell_type": "markdown",
      "source": [
        "# DATE_SUB() Function\n"
      ],
      "metadata": {
        "id": "i_7JZcx98XJr"
      }
    },
    {
      "cell_type": "code",
      "source": [
        "crsr.execute(\"SELECT strftime('%Y-%m-%d', datetime('2017-06-15', '-10 days'))\").fetchall()\n"
      ],
      "metadata": {
        "id": "e9hRLcCU8gmU"
      },
      "execution_count": null,
      "outputs": []
    },
    {
      "cell_type": "code",
      "source": [
        "crsr.execute(\"SELECT strftime('%Y-%m-%d %H:%M:%S', datetime('2017-06-15 09:34:21', '-15 minutes'))\").fetchall()\n"
      ],
      "metadata": {
        "id": "_NGPNx3bJ4EY"
      },
      "execution_count": null,
      "outputs": []
    },
    {
      "cell_type": "markdown",
      "source": [
        "#Types of SQL Commands\n",
        "There are five types of SQL commands: DDL, DML, DCL, TCL, and DQL"
      ],
      "metadata": {
        "id": "0mxAfetQ_4Py"
      }
    },
    {
      "cell_type": "code",
      "source": [
        "## SQL command to create a table named \"Student\"\n",
        "\n",
        "#DDL-Data definition language\n",
        "# create, drop, alter ,Truncate\n",
        "\n",
        "\n",
        "import sqlite3\n",
        "\n",
        "# Connect to the SQLite database (you may need to specify the database path)\n",
        "conn = sqlite3.connect('myPersonal.db')\n",
        "crsr = conn.cursor()\n",
        "\n",
        "\n",
        "#Create - it is used  to create a table in the database\n",
        "sql_command = \"\"\"\n",
        "CREATE TABLE student (\n",
        "    Name VARCHAR(20),\n",
        "    Email VARCHAR(100),\n",
        "    DOB DATE\n",
        ");\n",
        "\"\"\"\n",
        "\n",
        "# Execute the SQL command to create the table\n",
        "crsr.execute(sql_command)\n",
        "\n"
      ],
      "metadata": {
        "id": "FoUYsXF7_9f2"
      },
      "execution_count": null,
      "outputs": []
    },
    {
      "cell_type": "code",
      "source": [
        "student_dict = {\n",
        "    \"Name\": [\"Ankit\", \"Balram\", \"Chandu\", \"Dashrath\"],\n",
        "    \"Email\": ['dkkumawat@gmail.com', 'bkkumawat@gmail.com', 'ckkumawat@gmail.com', 'ankitkkumawat@gmail.com'],\n",
        "    \"DOB\": ['2003-10-23', '2012-10-22', '2012-03-22', '2014-07-04']\n",
        "}\n",
        "\n",
        "# Iterate over the data in the dictionary and insert it into the table\n",
        "for name, email, dob in zip(student_dict[\"Name\"], student_dict[\"Email\"], student_dict[\"DOB\"]):\n",
        "    sql_command = \"\"\"INSERT INTO student (Email, Name, DOB) VALUES (?, ?, ?);\"\"\"\n",
        "    crsr.execute(sql_command, (email, name, dob))\n"
      ],
      "metadata": {
        "id": "elTWNwxyAK9Z"
      },
      "execution_count": null,
      "outputs": []
    },
    {
      "cell_type": "code",
      "source": [
        "print_clean(crsr.execute(\"SELECT * FROM student\").fetchall())"
      ],
      "metadata": {
        "id": "qTz-mKx5AWM7"
      },
      "execution_count": null,
      "outputs": []
    },
    {
      "cell_type": "code",
      "source": [
        "#Drop: It is used to delete both the structure and record stored in the table\n",
        "\n",
        "table_to_drop = \"student\"\n",
        "crsr.execute(f\"DROP TABLE {table_to_drop}\")\n",
        "conn.commit()"
      ],
      "metadata": {
        "id": "T2olXn8dAisq"
      },
      "execution_count": null,
      "outputs": []
    },
    {
      "cell_type": "markdown",
      "source": [
        "#-------------------------------------------------------------------------"
      ],
      "metadata": {
        "id": "KbLRxhacsuQu"
      }
    },
    {
      "cell_type": "code",
      "source": [],
      "metadata": {
        "id": "wZ0d1uqGso1h"
      },
      "execution_count": null,
      "outputs": []
    }
  ]
}